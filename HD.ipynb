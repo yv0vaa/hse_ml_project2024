{
 "cells": [
  {
   "cell_type": "markdown",
   "metadata": {},
   "source": [
    "## Чтение данных"
   ]
  },
  {
   "cell_type": "code",
   "execution_count": 1,
   "metadata": {},
   "outputs": [
    {
     "data": {
      "text/html": [
       "<div>\n",
       "<style scoped>\n",
       "    .dataframe tbody tr th:only-of-type {\n",
       "        vertical-align: middle;\n",
       "    }\n",
       "\n",
       "    .dataframe tbody tr th {\n",
       "        vertical-align: top;\n",
       "    }\n",
       "\n",
       "    .dataframe thead th {\n",
       "        text-align: right;\n",
       "    }\n",
       "</style>\n",
       "<table border=\"1\" class=\"dataframe\">\n",
       "  <thead>\n",
       "    <tr style=\"text-align: right;\">\n",
       "      <th></th>\n",
       "      <th>State</th>\n",
       "      <th>Sex</th>\n",
       "      <th>GeneralHealth</th>\n",
       "      <th>PhysicalHealthDays</th>\n",
       "      <th>MentalHealthDays</th>\n",
       "      <th>LastCheckupTime</th>\n",
       "      <th>PhysicalActivities</th>\n",
       "      <th>SleepHours</th>\n",
       "      <th>RemovedTeeth</th>\n",
       "      <th>HadHeartAttack</th>\n",
       "      <th>...</th>\n",
       "      <th>HeightInMeters</th>\n",
       "      <th>WeightInKilograms</th>\n",
       "      <th>BMI</th>\n",
       "      <th>AlcoholDrinkers</th>\n",
       "      <th>HIVTesting</th>\n",
       "      <th>FluVaxLast12</th>\n",
       "      <th>PneumoVaxEver</th>\n",
       "      <th>TetanusLast10Tdap</th>\n",
       "      <th>HighRiskLastYear</th>\n",
       "      <th>CovidPos</th>\n",
       "    </tr>\n",
       "  </thead>\n",
       "  <tbody>\n",
       "    <tr>\n",
       "      <th>0</th>\n",
       "      <td>Alabama</td>\n",
       "      <td>Female</td>\n",
       "      <td>Very good</td>\n",
       "      <td>4.0</td>\n",
       "      <td>0.0</td>\n",
       "      <td>Within past year (anytime less than 12 months ...</td>\n",
       "      <td>Yes</td>\n",
       "      <td>9.0</td>\n",
       "      <td>None of them</td>\n",
       "      <td>No</td>\n",
       "      <td>...</td>\n",
       "      <td>1.60</td>\n",
       "      <td>71.67</td>\n",
       "      <td>27.99</td>\n",
       "      <td>No</td>\n",
       "      <td>No</td>\n",
       "      <td>Yes</td>\n",
       "      <td>Yes</td>\n",
       "      <td>Yes, received Tdap</td>\n",
       "      <td>No</td>\n",
       "      <td>No</td>\n",
       "    </tr>\n",
       "    <tr>\n",
       "      <th>1</th>\n",
       "      <td>Alabama</td>\n",
       "      <td>Male</td>\n",
       "      <td>Very good</td>\n",
       "      <td>0.0</td>\n",
       "      <td>0.0</td>\n",
       "      <td>Within past year (anytime less than 12 months ...</td>\n",
       "      <td>Yes</td>\n",
       "      <td>6.0</td>\n",
       "      <td>None of them</td>\n",
       "      <td>No</td>\n",
       "      <td>...</td>\n",
       "      <td>1.78</td>\n",
       "      <td>95.25</td>\n",
       "      <td>30.13</td>\n",
       "      <td>No</td>\n",
       "      <td>No</td>\n",
       "      <td>Yes</td>\n",
       "      <td>Yes</td>\n",
       "      <td>Yes, received tetanus shot but not sure what type</td>\n",
       "      <td>No</td>\n",
       "      <td>No</td>\n",
       "    </tr>\n",
       "    <tr>\n",
       "      <th>2</th>\n",
       "      <td>Alabama</td>\n",
       "      <td>Male</td>\n",
       "      <td>Very good</td>\n",
       "      <td>0.0</td>\n",
       "      <td>0.0</td>\n",
       "      <td>Within past year (anytime less than 12 months ...</td>\n",
       "      <td>No</td>\n",
       "      <td>8.0</td>\n",
       "      <td>6 or more, but not all</td>\n",
       "      <td>No</td>\n",
       "      <td>...</td>\n",
       "      <td>1.85</td>\n",
       "      <td>108.86</td>\n",
       "      <td>31.66</td>\n",
       "      <td>Yes</td>\n",
       "      <td>No</td>\n",
       "      <td>No</td>\n",
       "      <td>Yes</td>\n",
       "      <td>No, did not receive any tetanus shot in the pa...</td>\n",
       "      <td>No</td>\n",
       "      <td>Yes</td>\n",
       "    </tr>\n",
       "    <tr>\n",
       "      <th>3</th>\n",
       "      <td>Alabama</td>\n",
       "      <td>Female</td>\n",
       "      <td>Fair</td>\n",
       "      <td>5.0</td>\n",
       "      <td>0.0</td>\n",
       "      <td>Within past year (anytime less than 12 months ...</td>\n",
       "      <td>Yes</td>\n",
       "      <td>9.0</td>\n",
       "      <td>None of them</td>\n",
       "      <td>No</td>\n",
       "      <td>...</td>\n",
       "      <td>1.70</td>\n",
       "      <td>90.72</td>\n",
       "      <td>31.32</td>\n",
       "      <td>No</td>\n",
       "      <td>No</td>\n",
       "      <td>Yes</td>\n",
       "      <td>Yes</td>\n",
       "      <td>No, did not receive any tetanus shot in the pa...</td>\n",
       "      <td>No</td>\n",
       "      <td>Yes</td>\n",
       "    </tr>\n",
       "    <tr>\n",
       "      <th>4</th>\n",
       "      <td>Alabama</td>\n",
       "      <td>Female</td>\n",
       "      <td>Good</td>\n",
       "      <td>3.0</td>\n",
       "      <td>15.0</td>\n",
       "      <td>Within past year (anytime less than 12 months ...</td>\n",
       "      <td>Yes</td>\n",
       "      <td>5.0</td>\n",
       "      <td>1 to 5</td>\n",
       "      <td>No</td>\n",
       "      <td>...</td>\n",
       "      <td>1.55</td>\n",
       "      <td>79.38</td>\n",
       "      <td>33.07</td>\n",
       "      <td>No</td>\n",
       "      <td>No</td>\n",
       "      <td>Yes</td>\n",
       "      <td>Yes</td>\n",
       "      <td>No, did not receive any tetanus shot in the pa...</td>\n",
       "      <td>No</td>\n",
       "      <td>No</td>\n",
       "    </tr>\n",
       "  </tbody>\n",
       "</table>\n",
       "<p>5 rows × 40 columns</p>\n",
       "</div>"
      ],
      "text/plain": [
       "     State     Sex GeneralHealth  PhysicalHealthDays  MentalHealthDays  \\\n",
       "0  Alabama  Female     Very good                 4.0               0.0   \n",
       "1  Alabama    Male     Very good                 0.0               0.0   \n",
       "2  Alabama    Male     Very good                 0.0               0.0   \n",
       "3  Alabama  Female          Fair                 5.0               0.0   \n",
       "4  Alabama  Female          Good                 3.0              15.0   \n",
       "\n",
       "                                     LastCheckupTime PhysicalActivities  \\\n",
       "0  Within past year (anytime less than 12 months ...                Yes   \n",
       "1  Within past year (anytime less than 12 months ...                Yes   \n",
       "2  Within past year (anytime less than 12 months ...                 No   \n",
       "3  Within past year (anytime less than 12 months ...                Yes   \n",
       "4  Within past year (anytime less than 12 months ...                Yes   \n",
       "\n",
       "   SleepHours            RemovedTeeth HadHeartAttack  ... HeightInMeters  \\\n",
       "0         9.0            None of them             No  ...           1.60   \n",
       "1         6.0            None of them             No  ...           1.78   \n",
       "2         8.0  6 or more, but not all             No  ...           1.85   \n",
       "3         9.0            None of them             No  ...           1.70   \n",
       "4         5.0                  1 to 5             No  ...           1.55   \n",
       "\n",
       "  WeightInKilograms    BMI AlcoholDrinkers HIVTesting FluVaxLast12  \\\n",
       "0             71.67  27.99              No         No          Yes   \n",
       "1             95.25  30.13              No         No          Yes   \n",
       "2            108.86  31.66             Yes         No           No   \n",
       "3             90.72  31.32              No         No          Yes   \n",
       "4             79.38  33.07              No         No          Yes   \n",
       "\n",
       "  PneumoVaxEver                                  TetanusLast10Tdap  \\\n",
       "0           Yes                                 Yes, received Tdap   \n",
       "1           Yes  Yes, received tetanus shot but not sure what type   \n",
       "2           Yes  No, did not receive any tetanus shot in the pa...   \n",
       "3           Yes  No, did not receive any tetanus shot in the pa...   \n",
       "4           Yes  No, did not receive any tetanus shot in the pa...   \n",
       "\n",
       "  HighRiskLastYear CovidPos  \n",
       "0               No       No  \n",
       "1               No       No  \n",
       "2               No      Yes  \n",
       "3               No      Yes  \n",
       "4               No       No  \n",
       "\n",
       "[5 rows x 40 columns]"
      ]
     },
     "execution_count": 1,
     "metadata": {},
     "output_type": "execute_result"
    }
   ],
   "source": [
    "import pandas as pd\n",
    "df = pd.read_csv('heart_2022_no_nans.csv')\n",
    "df.head()"
   ]
  },
  {
   "cell_type": "markdown",
   "metadata": {},
   "source": [
    "## Обработка данных"
   ]
  },
  {
   "cell_type": "markdown",
   "metadata": {},
   "source": [
    "Удалим дубликаты"
   ]
  },
  {
   "cell_type": "code",
   "execution_count": 2,
   "metadata": {},
   "outputs": [
    {
     "name": "stdout",
     "output_type": "stream",
     "text": [
      "True\n"
     ]
    },
    {
     "data": {
      "text/plain": [
       "False"
      ]
     },
     "execution_count": 2,
     "metadata": {},
     "output_type": "execute_result"
    }
   ],
   "source": [
    "print(df.duplicated().any())\n",
    "df = df.drop_duplicates()\n",
    "df.duplicated().any()"
   ]
  },
  {
   "cell_type": "code",
   "execution_count": 3,
   "metadata": {},
   "outputs": [
    {
     "data": {
      "text/plain": [
       "<AxesSubplot:>"
      ]
     },
     "execution_count": 3,
     "metadata": {},
     "output_type": "execute_result"
    },
    {
     "data": {
      "image/png": "[encoded data removed]",
      "text/plain": [
       "<Figure size 640x480 with 1 Axes>"
      ]
     },
     "metadata": {},
     "output_type": "display_data"
    }
   ],
   "source": [
    "df[df['HadHeartAttack'] == 'Yes']['State'].hist()"
   ]
  },
  {
   "cell_type": "markdown",
   "metadata": {},
   "source": [
    "Возможно, штат как-то и влияет на вероятность сердечного приступа, но мы пока что его выкинем, потому что делать one-hot-encoding категориальной переменной с 54 значениями как-то не хочется. Если качество будет плохим, можно будет попробовать добавить бинарную фичу, отвечающую за принадлежность к топ-3 штатам по количеству сердечных приступов"
   ]
  },
  {
   "cell_type": "code",
   "execution_count": null,
   "metadata": {},
   "outputs": [],
   "source": [
    "df = df.drop(columns=['State'])"
   ]
  },
  {
   "cell_type": "code",
   "execution_count": 4,
   "metadata": {},
   "outputs": [
    {
     "data": {
      "image/png": "[encoded data removed]",
      "text/plain": [
       "<Figure size 1000x600 with 1 Axes>"
      ]
     },
     "metadata": {},
     "output_type": "display_data"
    }
   ],
   "source": [
    "import matplotlib.pyplot as plt\n",
    "physical_health_counts = df['PhysicalHealthDays'].value_counts()\n",
    "\n",
    "plt.figure(figsize=(10, 6))\n",
    "plt.pie(physical_health_counts, labels=physical_health_counts.index, autopct='%1.1f%%', startangle=140)\n",
    "plt.title('Distribution of Physical Health Days')\n",
    "plt.axis('equal') \n",
    "plt.show()"
   ]
  },
  {
   "cell_type": "code",
   "execution_count": 5,
   "metadata": {},
   "outputs": [
    {
     "data": {
      "image/png": "[encoded data removed]",
      "text/plain": [
       "<Figure size 1000x600 with 1 Axes>"
      ]
     },
     "metadata": {},
     "output_type": "display_data"
    }
   ],
   "source": [
    "import matplotlib.pyplot as plt\n",
    "mental_health_counts = df['MentalHealthDays'].value_counts()\n",
    "\n",
    "plt.figure(figsize=(10, 6))\n",
    "plt.pie(mental_health_counts, labels=mental_health_counts.index, autopct='%1.1f%%', startangle=140)\n",
    "plt.title('Distribution of Mental Health Days')\n",
    "plt.axis('equal') \n",
    "plt.show()"
   ]
  },
  {
   "cell_type": "markdown",
   "metadata": {},
   "source": [
    "Не очень понятно, за что отвечают эти фичи, да и распрелеление у них сомнительное. Поэтому логично их выбросить."
   ]
  },
  {
   "cell_type": "code",
   "execution_count": null,
   "metadata": {},
   "outputs": [],
   "source": [
    "df = df.drop(columns=['PhysicalHealthDays', 'MentalHealthDays'])"
   ]
  },
  {
   "cell_type": "markdown",
   "metadata": {},
   "source": [
    "Числовые фичи нужно нормализовать"
   ]
  },
  {
   "cell_type": "markdown",
   "metadata": {},
   "source": [
    "Значения GeneralHealth имеют внутренний порядок, поэтому лучше закодировать их целыми числами, чем применять one-hot-encoding. То же самое касается фичей LastCheckupTime, AgeCategory и RemovedTeeth"
   ]
  },
  {
   "cell_type": "code",
   "execution_count": 7,
   "metadata": {},
   "outputs": [
    {
     "data": {
      "text/plain": [
       "array(['Very good', 'Fair', 'Good', 'Excellent', 'Poor'], dtype=object)"
      ]
     },
     "execution_count": 7,
     "metadata": {},
     "output_type": "execute_result"
    }
   ],
   "source": [
    "df['GeneralHealth'].unique()"
   ]
  },
  {
   "cell_type": "code",
   "execution_count": 8,
   "metadata": {},
   "outputs": [],
   "source": [
    "df['GeneralHealth'] = df['GeneralHealth'].map({\n",
    "    \"Poor\" : 0,\n",
    "    \"Good\" : 1,\n",
    "    \"Very good\" : 2,\n",
    "    \"Fair\" : 3,\n",
    "    \"Excellent\" : 4\n",
    "})\n"
   ]
  },
  {
   "cell_type": "code",
   "execution_count": 9,
   "metadata": {},
   "outputs": [
    {
     "data": {
      "text/plain": [
       "array(['Within past year (anytime less than 12 months ago)',\n",
       "       '5 or more years ago',\n",
       "       'Within past 2 years (1 year but less than 2 years ago)',\n",
       "       'Within past 5 years (2 years but less than 5 years ago)'],\n",
       "      dtype=object)"
      ]
     },
     "execution_count": 9,
     "metadata": {},
     "output_type": "execute_result"
    }
   ],
   "source": [
    "df['LastCheckupTime'].unique()"
   ]
  },
  {
   "cell_type": "code",
   "execution_count": 10,
   "metadata": {},
   "outputs": [],
   "source": [
    "df['LastCheckupTime'] = df['LastCheckupTime'].map({\n",
    "    'Within past year (anytime less than 12 months ago)' : 0,\n",
    "    'Within past 2 years (1 year but less than 2 years ago)' : 1,\n",
    "    'Within past 5 years (2 years but less than 5 years ago)' : 2,\n",
    "    '5 or more years ago' : 3\n",
    "})"
   ]
  },
  {
   "cell_type": "code",
   "execution_count": 11,
   "metadata": {},
   "outputs": [
    {
     "data": {
      "text/plain": [
       "array(['None of them', '6 or more, but not all', '1 to 5', 'All'],\n",
       "      dtype=object)"
      ]
     },
     "execution_count": 11,
     "metadata": {},
     "output_type": "execute_result"
    }
   ],
   "source": [
    "df['RemovedTeeth'].unique()"
   ]
  },
  {
   "cell_type": "code",
   "execution_count": 12,
   "metadata": {},
   "outputs": [],
   "source": [
    "df['RemovedTeeth'] = df['RemovedTeeth'].map({\n",
    "    'None of them' : 0,\n",
    "    '1 to 5' : 1,\n",
    "    '6 or more, but not all' : 2,\n",
    "    'All' : 3\n",
    "})"
   ]
  },
  {
   "cell_type": "code",
   "execution_count": 13,
   "metadata": {},
   "outputs": [
    {
     "data": {
      "text/plain": [
       "['Age 18 to 24',\n",
       " 'Age 25 to 29',\n",
       " 'Age 30 to 34',\n",
       " 'Age 35 to 39',\n",
       " 'Age 40 to 44',\n",
       " 'Age 45 to 49',\n",
       " 'Age 50 to 54',\n",
       " 'Age 55 to 59',\n",
       " 'Age 60 to 64',\n",
       " 'Age 65 to 69',\n",
       " 'Age 70 to 74',\n",
       " 'Age 75 to 79',\n",
       " 'Age 80 or older']"
      ]
     },
     "execution_count": 13,
     "metadata": {},
     "output_type": "execute_result"
    }
   ],
   "source": [
    "sorted(df['AgeCategory'].unique())"
   ]
  },
  {
   "cell_type": "code",
   "execution_count": 14,
   "metadata": {},
   "outputs": [],
   "source": [
    "df['AgeCategory'] = df['AgeCategory'].map({\n",
    "    cat : i for i, cat in enumerate(sorted(df['AgeCategory']))\n",
    "})"
   ]
  },
  {
   "cell_type": "code",
   "execution_count": 15,
   "metadata": {},
   "outputs": [
    {
     "data": {
      "text/html": [
       "<div>\n",
       "<style scoped>\n",
       "    .dataframe tbody tr th:only-of-type {\n",
       "        vertical-align: middle;\n",
       "    }\n",
       "\n",
       "    .dataframe tbody tr th {\n",
       "        vertical-align: top;\n",
       "    }\n",
       "\n",
       "    .dataframe thead th {\n",
       "        text-align: right;\n",
       "    }\n",
       "</style>\n",
       "<table border=\"1\" class=\"dataframe\">\n",
       "  <thead>\n",
       "    <tr style=\"text-align: right;\">\n",
       "      <th></th>\n",
       "      <th>Sex</th>\n",
       "      <th>GeneralHealth</th>\n",
       "      <th>PhysicalHealthDays</th>\n",
       "      <th>MentalHealthDays</th>\n",
       "      <th>LastCheckupTime</th>\n",
       "      <th>PhysicalActivities</th>\n",
       "      <th>SleepHours</th>\n",
       "      <th>RemovedTeeth</th>\n",
       "      <th>HadHeartAttack</th>\n",
       "      <th>HadAngina</th>\n",
       "      <th>...</th>\n",
       "      <th>HeightInMeters</th>\n",
       "      <th>WeightInKilograms</th>\n",
       "      <th>BMI</th>\n",
       "      <th>AlcoholDrinkers</th>\n",
       "      <th>HIVTesting</th>\n",
       "      <th>FluVaxLast12</th>\n",
       "      <th>PneumoVaxEver</th>\n",
       "      <th>TetanusLast10Tdap</th>\n",
       "      <th>HighRiskLastYear</th>\n",
       "      <th>CovidPos</th>\n",
       "    </tr>\n",
       "  </thead>\n",
       "  <tbody>\n",
       "    <tr>\n",
       "      <th>0</th>\n",
       "      <td>Female</td>\n",
       "      <td>-0.063069</td>\n",
       "      <td>-0.014163</td>\n",
       "      <td>-0.514303</td>\n",
       "      <td>-0.437113</td>\n",
       "      <td>Yes</td>\n",
       "      <td>1.373423</td>\n",
       "      <td>-0.781148</td>\n",
       "      <td>No</td>\n",
       "      <td>No</td>\n",
       "      <td>...</td>\n",
       "      <td>-0.985901</td>\n",
       "      <td>-0.560212</td>\n",
       "      <td>-0.104123</td>\n",
       "      <td>No</td>\n",
       "      <td>No</td>\n",
       "      <td>Yes</td>\n",
       "      <td>Yes</td>\n",
       "      <td>Yes, received Tdap</td>\n",
       "      <td>No</td>\n",
       "      <td>No</td>\n",
       "    </tr>\n",
       "    <tr>\n",
       "      <th>1</th>\n",
       "      <td>Male</td>\n",
       "      <td>-0.063069</td>\n",
       "      <td>-0.490025</td>\n",
       "      <td>-0.514303</td>\n",
       "      <td>-0.437113</td>\n",
       "      <td>Yes</td>\n",
       "      <td>-0.708901</td>\n",
       "      <td>-0.781148</td>\n",
       "      <td>No</td>\n",
       "      <td>No</td>\n",
       "      <td>...</td>\n",
       "      <td>0.701798</td>\n",
       "      <td>0.545625</td>\n",
       "      <td>0.224400</td>\n",
       "      <td>No</td>\n",
       "      <td>No</td>\n",
       "      <td>Yes</td>\n",
       "      <td>Yes</td>\n",
       "      <td>Yes, received tetanus shot but not sure what type</td>\n",
       "      <td>No</td>\n",
       "      <td>No</td>\n",
       "    </tr>\n",
       "    <tr>\n",
       "      <th>2</th>\n",
       "      <td>Male</td>\n",
       "      <td>-0.063069</td>\n",
       "      <td>-0.490025</td>\n",
       "      <td>-0.514303</td>\n",
       "      <td>-0.437113</td>\n",
       "      <td>No</td>\n",
       "      <td>0.679315</td>\n",
       "      <td>1.507534</td>\n",
       "      <td>No</td>\n",
       "      <td>No</td>\n",
       "      <td>...</td>\n",
       "      <td>1.358125</td>\n",
       "      <td>1.183895</td>\n",
       "      <td>0.459278</td>\n",
       "      <td>Yes</td>\n",
       "      <td>No</td>\n",
       "      <td>No</td>\n",
       "      <td>Yes</td>\n",
       "      <td>No, did not receive any tetanus shot in the pa...</td>\n",
       "      <td>No</td>\n",
       "      <td>Yes</td>\n",
       "    </tr>\n",
       "    <tr>\n",
       "      <th>3</th>\n",
       "      <td>Female</td>\n",
       "      <td>0.826852</td>\n",
       "      <td>0.104802</td>\n",
       "      <td>-0.514303</td>\n",
       "      <td>-0.437113</td>\n",
       "      <td>Yes</td>\n",
       "      <td>1.373423</td>\n",
       "      <td>-0.781148</td>\n",
       "      <td>No</td>\n",
       "      <td>No</td>\n",
       "      <td>...</td>\n",
       "      <td>-0.048290</td>\n",
       "      <td>0.333180</td>\n",
       "      <td>0.407083</td>\n",
       "      <td>No</td>\n",
       "      <td>No</td>\n",
       "      <td>Yes</td>\n",
       "      <td>Yes</td>\n",
       "      <td>No, did not receive any tetanus shot in the pa...</td>\n",
       "      <td>No</td>\n",
       "      <td>Yes</td>\n",
       "    </tr>\n",
       "    <tr>\n",
       "      <th>4</th>\n",
       "      <td>Female</td>\n",
       "      <td>-0.952990</td>\n",
       "      <td>-0.133129</td>\n",
       "      <td>1.336910</td>\n",
       "      <td>-0.437113</td>\n",
       "      <td>Yes</td>\n",
       "      <td>-1.403009</td>\n",
       "      <td>0.363193</td>\n",
       "      <td>No</td>\n",
       "      <td>No</td>\n",
       "      <td>...</td>\n",
       "      <td>-1.454706</td>\n",
       "      <td>-0.198634</td>\n",
       "      <td>0.675735</td>\n",
       "      <td>No</td>\n",
       "      <td>No</td>\n",
       "      <td>Yes</td>\n",
       "      <td>Yes</td>\n",
       "      <td>No, did not receive any tetanus shot in the pa...</td>\n",
       "      <td>No</td>\n",
       "      <td>No</td>\n",
       "    </tr>\n",
       "  </tbody>\n",
       "</table>\n",
       "<p>5 rows × 39 columns</p>\n",
       "</div>"
      ],
      "text/plain": [
       "      Sex  GeneralHealth  PhysicalHealthDays  MentalHealthDays  \\\n",
       "0  Female      -0.063069           -0.014163         -0.514303   \n",
       "1    Male      -0.063069           -0.490025         -0.514303   \n",
       "2    Male      -0.063069           -0.490025         -0.514303   \n",
       "3  Female       0.826852            0.104802         -0.514303   \n",
       "4  Female      -0.952990           -0.133129          1.336910   \n",
       "\n",
       "   LastCheckupTime PhysicalActivities  SleepHours  RemovedTeeth  \\\n",
       "0        -0.437113                Yes    1.373423     -0.781148   \n",
       "1        -0.437113                Yes   -0.708901     -0.781148   \n",
       "2        -0.437113                 No    0.679315      1.507534   \n",
       "3        -0.437113                Yes    1.373423     -0.781148   \n",
       "4        -0.437113                Yes   -1.403009      0.363193   \n",
       "\n",
       "  HadHeartAttack HadAngina  ... HeightInMeters WeightInKilograms       BMI  \\\n",
       "0             No        No  ...      -0.985901         -0.560212 -0.104123   \n",
       "1             No        No  ...       0.701798          0.545625  0.224400   \n",
       "2             No        No  ...       1.358125          1.183895  0.459278   \n",
       "3             No        No  ...      -0.048290          0.333180  0.407083   \n",
       "4             No        No  ...      -1.454706         -0.198634  0.675735   \n",
       "\n",
       "  AlcoholDrinkers HIVTesting FluVaxLast12 PneumoVaxEver  \\\n",
       "0              No         No          Yes           Yes   \n",
       "1              No         No          Yes           Yes   \n",
       "2             Yes         No           No           Yes   \n",
       "3              No         No          Yes           Yes   \n",
       "4              No         No          Yes           Yes   \n",
       "\n",
       "                                   TetanusLast10Tdap HighRiskLastYear CovidPos  \n",
       "0                                 Yes, received Tdap               No       No  \n",
       "1  Yes, received tetanus shot but not sure what type               No       No  \n",
       "2  No, did not receive any tetanus shot in the pa...               No      Yes  \n",
       "3  No, did not receive any tetanus shot in the pa...               No      Yes  \n",
       "4  No, did not receive any tetanus shot in the pa...               No       No  \n",
       "\n",
       "[5 rows x 39 columns]"
      ]
     },
     "execution_count": 15,
     "metadata": {},
     "output_type": "execute_result"
    }
   ],
   "source": [
    "numeric_cols = df.select_dtypes(include=['int', 'float']).columns\n",
    "for col in numeric_cols:\n",
    "    df[col] = (df[col] - df[col].mean()) / df[col].std()\n",
    "df.head()"
   ]
  },
  {
   "cell_type": "markdown",
   "metadata": {},
   "source": [
    "А вот фичи SmokerStatus, RaceEthnicityCategory, TetanusLast10Tdap и ECigaretteUsage можно закодировать one-hot-encoding-ом"
   ]
  },
  {
   "cell_type": "code",
   "execution_count": 16,
   "metadata": {},
   "outputs": [],
   "source": [
    "df = pd.get_dummies(\n",
    "    df, \n",
    "    columns=[\n",
    "        'ECigaretteUsage',\n",
    "        'SmokerStatus',\n",
    "        'RaceEthnicityCategory',\n",
    "        'TetanusLast10Tdap'\n",
    "    ], \n",
    "    drop_first=True,\n",
    "    dtype=float\n",
    ")"
   ]
  },
  {
   "cell_type": "markdown",
   "metadata": {},
   "source": [
    "Все колонки, имеющие только значения Yes/No нужно бинаризовать. Пол также стоит бинаризовать"
   ]
  },
  {
   "cell_type": "code",
   "execution_count": 17,
   "metadata": {},
   "outputs": [
    {
     "data": {
      "text/html": [
       "<div>\n",
       "<style scoped>\n",
       "    .dataframe tbody tr th:only-of-type {\n",
       "        vertical-align: middle;\n",
       "    }\n",
       "\n",
       "    .dataframe tbody tr th {\n",
       "        vertical-align: top;\n",
       "    }\n",
       "\n",
       "    .dataframe thead th {\n",
       "        text-align: right;\n",
       "    }\n",
       "</style>\n",
       "<table border=\"1\" class=\"dataframe\">\n",
       "  <thead>\n",
       "    <tr style=\"text-align: right;\">\n",
       "      <th></th>\n",
       "      <th>Sex</th>\n",
       "      <th>GeneralHealth</th>\n",
       "      <th>PhysicalHealthDays</th>\n",
       "      <th>MentalHealthDays</th>\n",
       "      <th>LastCheckupTime</th>\n",
       "      <th>PhysicalActivities</th>\n",
       "      <th>SleepHours</th>\n",
       "      <th>RemovedTeeth</th>\n",
       "      <th>HadHeartAttack</th>\n",
       "      <th>HadAngina</th>\n",
       "      <th>...</th>\n",
       "      <th>SmokerStatus_Current smoker - now smokes some days</th>\n",
       "      <th>SmokerStatus_Former smoker</th>\n",
       "      <th>SmokerStatus_Never smoked</th>\n",
       "      <th>RaceEthnicityCategory_Hispanic</th>\n",
       "      <th>RaceEthnicityCategory_Multiracial, Non-Hispanic</th>\n",
       "      <th>RaceEthnicityCategory_Other race only, Non-Hispanic</th>\n",
       "      <th>RaceEthnicityCategory_White only, Non-Hispanic</th>\n",
       "      <th>TetanusLast10Tdap_Yes, received Tdap</th>\n",
       "      <th>TetanusLast10Tdap_Yes, received tetanus shot but not sure what type</th>\n",
       "      <th>TetanusLast10Tdap_Yes, received tetanus shot, but not Tdap</th>\n",
       "    </tr>\n",
       "  </thead>\n",
       "  <tbody>\n",
       "    <tr>\n",
       "      <th>0</th>\n",
       "      <td>0</td>\n",
       "      <td>-0.063069</td>\n",
       "      <td>-0.014163</td>\n",
       "      <td>-0.514303</td>\n",
       "      <td>-0.437113</td>\n",
       "      <td>1</td>\n",
       "      <td>1.373423</td>\n",
       "      <td>-0.781148</td>\n",
       "      <td>0</td>\n",
       "      <td>0</td>\n",
       "      <td>...</td>\n",
       "      <td>0.0</td>\n",
       "      <td>1.0</td>\n",
       "      <td>0.0</td>\n",
       "      <td>0.0</td>\n",
       "      <td>0.0</td>\n",
       "      <td>0.0</td>\n",
       "      <td>1.0</td>\n",
       "      <td>1.0</td>\n",
       "      <td>0.0</td>\n",
       "      <td>0.0</td>\n",
       "    </tr>\n",
       "    <tr>\n",
       "      <th>1</th>\n",
       "      <td>1</td>\n",
       "      <td>-0.063069</td>\n",
       "      <td>-0.490025</td>\n",
       "      <td>-0.514303</td>\n",
       "      <td>-0.437113</td>\n",
       "      <td>1</td>\n",
       "      <td>-0.708901</td>\n",
       "      <td>-0.781148</td>\n",
       "      <td>0</td>\n",
       "      <td>0</td>\n",
       "      <td>...</td>\n",
       "      <td>0.0</td>\n",
       "      <td>1.0</td>\n",
       "      <td>0.0</td>\n",
       "      <td>0.0</td>\n",
       "      <td>0.0</td>\n",
       "      <td>0.0</td>\n",
       "      <td>1.0</td>\n",
       "      <td>0.0</td>\n",
       "      <td>1.0</td>\n",
       "      <td>0.0</td>\n",
       "    </tr>\n",
       "    <tr>\n",
       "      <th>2</th>\n",
       "      <td>1</td>\n",
       "      <td>-0.063069</td>\n",
       "      <td>-0.490025</td>\n",
       "      <td>-0.514303</td>\n",
       "      <td>-0.437113</td>\n",
       "      <td>0</td>\n",
       "      <td>0.679315</td>\n",
       "      <td>1.507534</td>\n",
       "      <td>0</td>\n",
       "      <td>0</td>\n",
       "      <td>...</td>\n",
       "      <td>0.0</td>\n",
       "      <td>1.0</td>\n",
       "      <td>0.0</td>\n",
       "      <td>0.0</td>\n",
       "      <td>0.0</td>\n",
       "      <td>0.0</td>\n",
       "      <td>1.0</td>\n",
       "      <td>0.0</td>\n",
       "      <td>0.0</td>\n",
       "      <td>0.0</td>\n",
       "    </tr>\n",
       "    <tr>\n",
       "      <th>3</th>\n",
       "      <td>0</td>\n",
       "      <td>0.826852</td>\n",
       "      <td>0.104802</td>\n",
       "      <td>-0.514303</td>\n",
       "      <td>-0.437113</td>\n",
       "      <td>1</td>\n",
       "      <td>1.373423</td>\n",
       "      <td>-0.781148</td>\n",
       "      <td>0</td>\n",
       "      <td>0</td>\n",
       "      <td>...</td>\n",
       "      <td>0.0</td>\n",
       "      <td>0.0</td>\n",
       "      <td>1.0</td>\n",
       "      <td>0.0</td>\n",
       "      <td>0.0</td>\n",
       "      <td>0.0</td>\n",
       "      <td>1.0</td>\n",
       "      <td>0.0</td>\n",
       "      <td>0.0</td>\n",
       "      <td>0.0</td>\n",
       "    </tr>\n",
       "    <tr>\n",
       "      <th>4</th>\n",
       "      <td>0</td>\n",
       "      <td>-0.952990</td>\n",
       "      <td>-0.133129</td>\n",
       "      <td>1.336910</td>\n",
       "      <td>-0.437113</td>\n",
       "      <td>1</td>\n",
       "      <td>-1.403009</td>\n",
       "      <td>0.363193</td>\n",
       "      <td>0</td>\n",
       "      <td>0</td>\n",
       "      <td>...</td>\n",
       "      <td>0.0</td>\n",
       "      <td>0.0</td>\n",
       "      <td>1.0</td>\n",
       "      <td>0.0</td>\n",
       "      <td>0.0</td>\n",
       "      <td>0.0</td>\n",
       "      <td>1.0</td>\n",
       "      <td>0.0</td>\n",
       "      <td>0.0</td>\n",
       "      <td>0.0</td>\n",
       "    </tr>\n",
       "  </tbody>\n",
       "</table>\n",
       "<p>5 rows × 48 columns</p>\n",
       "</div>"
      ],
      "text/plain": [
       "   Sex  GeneralHealth  PhysicalHealthDays  MentalHealthDays  LastCheckupTime  \\\n",
       "0    0      -0.063069           -0.014163         -0.514303        -0.437113   \n",
       "1    1      -0.063069           -0.490025         -0.514303        -0.437113   \n",
       "2    1      -0.063069           -0.490025         -0.514303        -0.437113   \n",
       "3    0       0.826852            0.104802         -0.514303        -0.437113   \n",
       "4    0      -0.952990           -0.133129          1.336910        -0.437113   \n",
       "\n",
       "   PhysicalActivities  SleepHours  RemovedTeeth  HadHeartAttack  HadAngina  \\\n",
       "0                   1    1.373423     -0.781148               0          0   \n",
       "1                   1   -0.708901     -0.781148               0          0   \n",
       "2                   0    0.679315      1.507534               0          0   \n",
       "3                   1    1.373423     -0.781148               0          0   \n",
       "4                   1   -1.403009      0.363193               0          0   \n",
       "\n",
       "   ...  SmokerStatus_Current smoker - now smokes some days  \\\n",
       "0  ...                                                0.0    \n",
       "1  ...                                                0.0    \n",
       "2  ...                                                0.0    \n",
       "3  ...                                                0.0    \n",
       "4  ...                                                0.0    \n",
       "\n",
       "   SmokerStatus_Former smoker  SmokerStatus_Never smoked  \\\n",
       "0                         1.0                        0.0   \n",
       "1                         1.0                        0.0   \n",
       "2                         1.0                        0.0   \n",
       "3                         0.0                        1.0   \n",
       "4                         0.0                        1.0   \n",
       "\n",
       "   RaceEthnicityCategory_Hispanic  \\\n",
       "0                             0.0   \n",
       "1                             0.0   \n",
       "2                             0.0   \n",
       "3                             0.0   \n",
       "4                             0.0   \n",
       "\n",
       "   RaceEthnicityCategory_Multiracial, Non-Hispanic  \\\n",
       "0                                              0.0   \n",
       "1                                              0.0   \n",
       "2                                              0.0   \n",
       "3                                              0.0   \n",
       "4                                              0.0   \n",
       "\n",
       "   RaceEthnicityCategory_Other race only, Non-Hispanic  \\\n",
       "0                                                0.0     \n",
       "1                                                0.0     \n",
       "2                                                0.0     \n",
       "3                                                0.0     \n",
       "4                                                0.0     \n",
       "\n",
       "   RaceEthnicityCategory_White only, Non-Hispanic  \\\n",
       "0                                             1.0   \n",
       "1                                             1.0   \n",
       "2                                             1.0   \n",
       "3                                             1.0   \n",
       "4                                             1.0   \n",
       "\n",
       "   TetanusLast10Tdap_Yes, received Tdap  \\\n",
       "0                                   1.0   \n",
       "1                                   0.0   \n",
       "2                                   0.0   \n",
       "3                                   0.0   \n",
       "4                                   0.0   \n",
       "\n",
       "   TetanusLast10Tdap_Yes, received tetanus shot but not sure what type  \\\n",
       "0                                                0.0                     \n",
       "1                                                1.0                     \n",
       "2                                                0.0                     \n",
       "3                                                0.0                     \n",
       "4                                                0.0                     \n",
       "\n",
       "   TetanusLast10Tdap_Yes, received tetanus shot, but not Tdap  \n",
       "0                                                0.0           \n",
       "1                                                0.0           \n",
       "2                                                0.0           \n",
       "3                                                0.0           \n",
       "4                                                0.0           \n",
       "\n",
       "[5 rows x 48 columns]"
      ]
     },
     "execution_count": 17,
     "metadata": {},
     "output_type": "execute_result"
    }
   ],
   "source": [
    "for column in df.columns:\n",
    "    if sorted(df[column].unique()) == [\"No\", \"Yes\"]:\n",
    "        df[column] = df[column].map({\n",
    "            \"Yes\" : 1,\n",
    "            \"No\" : 0\n",
    "        })\n",
    "df['Sex'] = df['Sex'].map({\n",
    "            \"Male\" : 1,\n",
    "            \"Female\" : 0\n",
    "        }) \n",
    "df['HadDiabetes'] = df['HadDiabetes'].map({\n",
    "    'No' : 0, \n",
    "    'Yes' : 1,\n",
    "    'Yes, but only during pregnancy (female)' : 1,\n",
    "    'No, pre-diabetes or borderline diabetes' : 0\n",
    "})\n",
    "df.head()"
   ]
  },
  {
   "cell_type": "code",
   "execution_count": 18,
   "metadata": {},
   "outputs": [
    {
     "data": {
      "text/plain": [
       "No                                                               167297\n",
       "Yes                                                               70324\n",
       "Tested positive using home test without a health professional      8392\n",
       "Name: CovidPos, dtype: int64"
      ]
     },
     "execution_count": 18,
     "metadata": {},
     "output_type": "execute_result"
    }
   ],
   "source": [
    "df['CovidPos'].value_counts()"
   ]
  },
  {
   "cell_type": "markdown",
   "metadata": {},
   "source": [
    "Колонку CovidPos тоже бинаризую. Надеюсь, что 3% отнесенных к больным с использованием домашнего теста не обидятся"
   ]
  },
  {
   "cell_type": "code",
   "execution_count": 19,
   "metadata": {},
   "outputs": [],
   "source": [
    "df['CovidPos'] = df['CovidPos'].map({\n",
    "    \"Yes\" : 1,\n",
    "    \"No\" : 0,\n",
    "    \"Tested positive using home test without a health professional\" : 1\n",
    "})"
   ]
  },
  {
   "cell_type": "code",
   "execution_count": 20,
   "metadata": {},
   "outputs": [
    {
     "data": {
      "image/png": "[encoded data removed]",
      "text/plain": [
       "<Figure size 1000x600 with 1 Axes>"
      ]
     },
     "metadata": {},
     "output_type": "display_data"
    }
   ],
   "source": [
    "attack_counts = df['HadHeartAttack'].value_counts()\n",
    "\n",
    "plt.figure(figsize=(10, 6))\n",
    "plt.pie(attack_counts, labels=attack_counts.index, autopct='%1.1f%%', startangle=140)\n",
    "plt.title('Had Heart Attack')\n",
    "plt.axis('equal') \n",
    "plt.show()"
   ]
  },
  {
   "cell_type": "markdown",
   "metadata": {},
   "source": [
    "Обрежем датасет, чтобы избавиться от дисбаланса классов"
   ]
  },
  {
   "cell_type": "code",
   "execution_count": 21,
   "metadata": {},
   "outputs": [],
   "source": [
    "condition0 = (df['HadHeartAttack'] == 0)\n",
    "condition1 = (df['HadHeartAttack'] == 1)\n",
    "rows_to_drop = len(df[condition0]) - len(df[condition1])\n",
    "indices_to_drop = df[condition0].sample(n=rows_to_drop).index\n",
    "df = df.drop(indices_to_drop)"
   ]
  },
  {
   "cell_type": "code",
   "execution_count": 23,
   "metadata": {},
   "outputs": [],
   "source": [
    "from sklearn.model_selection import train_test_split\n",
    "X_train, X_test, y_train, y_test = train_test_split(\n",
    "    df.drop(columns=['HadHeartAttack']),\n",
    "    df['HadHeartAttack'],\n",
    "    test_size=0.1,\n",
    "    stratify=df['HadHeartAttack']\n",
    ")"
   ]
  },
  {
   "cell_type": "code",
   "execution_count": 24,
   "metadata": {},
   "outputs": [],
   "source": [
    "from sklearn.model_selection import cross_val_score\n",
    "from sklearn.linear_model import LogisticRegression\n",
    "from sklearn.naive_bayes import GaussianNB\n",
    "from sklearn.linear_model import LogisticRegression\n"
   ]
  },
  {
   "cell_type": "code",
   "execution_count": 25,
   "metadata": {},
   "outputs": [],
   "source": [
    "logreg = LogisticRegression(max_iter=10000)\n",
    "logreg_fits = cross_val_score(logreg, X=df.drop(columns=['HadHeartAttack']), y=df['HadHeartAttack'], scoring='accuracy', cv=10)"
   ]
  },
  {
   "cell_type": "code",
   "execution_count": 26,
   "metadata": {},
   "outputs": [],
   "source": [
    "gnb = GaussianNB()\n",
    "gnb_fits = cross_val_score(gnb, X=df.drop(columns=['HadHeartAttack']), y=df['HadHeartAttack'], scoring='accuracy', cv=10)"
   ]
  },
  {
   "cell_type": "code",
   "execution_count": null,
   "metadata": {},
   "outputs": [],
   "source": [
    "from catboost import CatBoostClassifier\n",
    "cb = CatBoostClassifier()\n",
    "cb_fits = cross_val_score(cb, X=df.drop(columns=['HadHeartAttack']), y=df['HadHeartAttack'], scoring='accuracy', cv=10)"
   ]
  },
  {
   "cell_type": "code",
   "execution_count": 28,
   "metadata": {},
   "outputs": [],
   "source": [
    "from sklearn.tree import DecisionTreeClassifier\n",
    "\n",
    "clf = DecisionTreeClassifier()\n",
    "clf_fits = cross_val_score(clf, X=df.drop(columns=['HadHeartAttack']), y=df['HadHeartAttack'], scoring='accuracy', cv=10)"
   ]
  },
  {
   "cell_type": "code",
   "execution_count": 29,
   "metadata": {},
   "outputs": [],
   "source": [
    "from scipy.stats import ttest_ind"
   ]
  },
  {
   "cell_type": "code",
   "execution_count": 42,
   "metadata": {},
   "outputs": [
    {
     "name": "stdout",
     "output_type": "stream",
     "text": [
      "LogReg > NB pvalue: 4.6715112381953315e-05\n",
      "LogReg < CatBoost pvalue: 0.9417657813064053\n",
      "LogReg > DecisionTree pvalue: 4.08093100941668e-13\n",
      "NB < CatBoost pvalue: 0.9999961952367017\n",
      "NB > DecisionTree pvalue: 2.0936305345542623e-11\n",
      "CatBoost > DecisionTree pvalue: 9.135018459959308e-14\n"
     ]
    }
   ],
   "source": [
    "models_results = [logreg_fits, gnb_fits, cb_fits, clf_fits]\n",
    "models = ['LogReg', \"NB\", \"CatBoost\", \"DecisionTree\"]\n",
    "for i in range(4):\n",
    "    for j in range(i + 1, 4):\n",
    "        pvalue = ttest_ind(models_results[i], models_results[j], alternative='greater', equal_var=False).pvalue\n",
    "        if pvalue < 0.01:\n",
    "            print(models[i], \">\", models[j], \"pvalue:\", pvalue)\n",
    "        else:\n",
    "            print(models[i], \"<\", models[j], \"pvalue:\", pvalue)"
   ]
  },
  {
   "cell_type": "code",
   "execution_count": 32,
   "metadata": {},
   "outputs": [
    {
     "data": {
      "text/plain": [
       "[array([0.79270562, 0.79010048, 0.80312616, 0.80908076, 0.80759211,\n",
       "        0.80163751, 0.80387049, 0.8087086 , 0.79791589, 0.79382211]),\n",
       " array([0.77149237, 0.77633048, 0.78265724, 0.78377373, 0.7967994 ,\n",
       "        0.78377373, 0.79270562, 0.79084481, 0.78675102, 0.7770748 ]),\n",
       " array([0.79531076, 0.79382211, 0.81577968, 0.81243022, 0.8087086 ,\n",
       "        0.80684779, 0.81615184, 0.80982508, 0.80796427, 0.79754373]),\n",
       " array([0.73390398, 0.71343506, 0.72534425, 0.71864533, 0.73911425,\n",
       "        0.72013398, 0.73985858, 0.73836993, 0.72757722, 0.72125047])]"
      ]
     },
     "execution_count": 32,
     "metadata": {},
     "output_type": "execute_result"
    }
   ],
   "source": [
    "models_results"
   ]
  }
 ],
 "metadata": {
  "kernelspec": {
   "display_name": "classical-ml",
   "language": "python",
   "name": "python3"
  },
  "language_info": {
   "codemirror_mode": {
    "name": "ipython",
    "version": 3
   },
   "file_extension": ".py",
   "mimetype": "text/x-python",
   "name": "python",
   "nbconvert_exporter": "python",
   "pygments_lexer": "ipython3",
   "version": "3.10.13"
  }
 },
 "nbformat": 4,
 "nbformat_minor": 2
}
